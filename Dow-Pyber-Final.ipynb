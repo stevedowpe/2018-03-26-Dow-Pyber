{
 "cells": [
  {
   "cell_type": "code",
   "execution_count": 1,
   "metadata": {},
   "outputs": [],
   "source": [
    "# INSTRUCTIONS\n",
    "#Your objective is to build a [Bubble Plot](https://en.wikipedia.org/wiki/Bubble_chart) \n",
    "#that showcases the relationship between four key variables:\n",
    "#* Average Fare ($) Per City\n",
    "#* Total Number of Rides Per City\n",
    "#* Total Number of Drivers Per City\n",
    "#* City Type (Urban, Suburban, Rural)\n",
    "\n",
    "#In addition, you will be expected to produce the following three pie charts:\n",
    "#* % of Total Fares by City Type\n",
    "#* % of Total Rides by City Type\n",
    "#* % of Total Drivers by City Type\n",
    "\n",
    "# THREE OBSERVATIONS: \n",
    "# (1) As would be expected, there are significantly more drivers and rides in the urban areas.\n",
    "# (2) The rural area cities get 5.3% of the total rides, but 6.7% of the total fare. \n",
    "#     This is the most favorable ride-to-fare ratio for would-be drivers. \n",
    "# (3) The average fare increases with the decrease of # of rides. "
   ]
  },
  {
   "cell_type": "code",
   "execution_count": 2,
   "metadata": {},
   "outputs": [],
   "source": [
    "#Dependencies\n",
    "import pandas as pd\n",
    "import numpy as np\n",
    "import matplotlib.pyplot as plt"
   ]
  },
  {
   "cell_type": "code",
   "execution_count": 3,
   "metadata": {},
   "outputs": [],
   "source": [
    "# load CSV\n",
    "city_data = \"raw_data/city_data.csv\"\n",
    "ride_data = \"raw_data/ride_data.csv\""
   ]
  },
  {
   "cell_type": "code",
   "execution_count": 4,
   "metadata": {},
   "outputs": [
    {
     "data": {
      "text/html": [
       "<div>\n",
       "<style scoped>\n",
       "    .dataframe tbody tr th:only-of-type {\n",
       "        vertical-align: middle;\n",
       "    }\n",
       "\n",
       "    .dataframe tbody tr th {\n",
       "        vertical-align: top;\n",
       "    }\n",
       "\n",
       "    .dataframe thead th {\n",
       "        text-align: right;\n",
       "    }\n",
       "</style>\n",
       "<table border=\"1\" class=\"dataframe\">\n",
       "  <thead>\n",
       "    <tr style=\"text-align: right;\">\n",
       "      <th></th>\n",
       "      <th>city</th>\n",
       "      <th>driver_count</th>\n",
       "      <th>type</th>\n",
       "    </tr>\n",
       "  </thead>\n",
       "  <tbody>\n",
       "    <tr>\n",
       "      <th>0</th>\n",
       "      <td>Alvarezhaven</td>\n",
       "      <td>21</td>\n",
       "      <td>Urban</td>\n",
       "    </tr>\n",
       "    <tr>\n",
       "      <th>1</th>\n",
       "      <td>Alyssaberg</td>\n",
       "      <td>67</td>\n",
       "      <td>Urban</td>\n",
       "    </tr>\n",
       "  </tbody>\n",
       "</table>\n",
       "</div>"
      ],
      "text/plain": [
       "           city  driver_count   type\n",
       "0  Alvarezhaven            21  Urban\n",
       "1    Alyssaberg            67  Urban"
      ]
     },
     "execution_count": 4,
     "metadata": {},
     "output_type": "execute_result"
    }
   ],
   "source": [
    "# Read with pandas- city\n",
    "city_df = pd.read_csv(city_data)\n",
    "city_df.head()\n",
    "\n",
    "# Clean up assistance with Luis... to address repeat of some city info... \n",
    "city_df_clean = pd.DataFrame({'type': city_df.groupby('city').first()['type'],\n",
    "                                'driver_count': city_df.groupby('city').sum()['driver_count']}).reset_index()\n",
    "city_df_clean.head(2)"
   ]
  },
  {
   "cell_type": "code",
   "execution_count": 5,
   "metadata": {},
   "outputs": [
    {
     "data": {
      "text/html": [
       "<div>\n",
       "<style scoped>\n",
       "    .dataframe tbody tr th:only-of-type {\n",
       "        vertical-align: middle;\n",
       "    }\n",
       "\n",
       "    .dataframe tbody tr th {\n",
       "        vertical-align: top;\n",
       "    }\n",
       "\n",
       "    .dataframe thead th {\n",
       "        text-align: right;\n",
       "    }\n",
       "</style>\n",
       "<table border=\"1\" class=\"dataframe\">\n",
       "  <thead>\n",
       "    <tr style=\"text-align: right;\">\n",
       "      <th></th>\n",
       "      <th>city</th>\n",
       "      <th>date</th>\n",
       "      <th>fare</th>\n",
       "      <th>ride_id</th>\n",
       "    </tr>\n",
       "  </thead>\n",
       "  <tbody>\n",
       "    <tr>\n",
       "      <th>0</th>\n",
       "      <td>Sarabury</td>\n",
       "      <td>2016-01-16 13:49:27</td>\n",
       "      <td>38.35</td>\n",
       "      <td>5403689035038</td>\n",
       "    </tr>\n",
       "    <tr>\n",
       "      <th>1</th>\n",
       "      <td>South Roy</td>\n",
       "      <td>2016-01-02 18:42:34</td>\n",
       "      <td>17.49</td>\n",
       "      <td>4036272335942</td>\n",
       "    </tr>\n",
       "  </tbody>\n",
       "</table>\n",
       "</div>"
      ],
      "text/plain": [
       "        city                 date   fare        ride_id\n",
       "0   Sarabury  2016-01-16 13:49:27  38.35  5403689035038\n",
       "1  South Roy  2016-01-02 18:42:34  17.49  4036272335942"
      ]
     },
     "execution_count": 5,
     "metadata": {},
     "output_type": "execute_result"
    }
   ],
   "source": [
    "# Read with pandas- ride\n",
    "ride_df = pd.read_csv(ride_data)\n",
    "ride_df.head(2)\n",
    "\n",
    "#ride_df[\"city\"].value_Counts()\n"
   ]
  },
  {
   "cell_type": "code",
   "execution_count": 6,
   "metadata": {},
   "outputs": [
    {
     "data": {
      "text/plain": [
       "city\n",
       "Alvarezhaven    23.928710\n",
       "Alyssaberg      20.609615\n",
       "Name: fare, dtype: float64"
      ]
     },
     "execution_count": 6,
     "metadata": {},
     "output_type": "execute_result"
    }
   ],
   "source": [
    "#* Average Fare ($) Per City\n",
    "ave_fare_per_city = ride_df.groupby(\"city\").mean()[\"fare\"]\n",
    "ave_fare_per_city.head(2)"
   ]
  },
  {
   "cell_type": "code",
   "execution_count": 7,
   "metadata": {},
   "outputs": [
    {
     "data": {
      "text/plain": [
       "city\n",
       "Alvarezhaven    31\n",
       "Alyssaberg      26\n",
       "Name: ride_id, dtype: int64"
      ]
     },
     "execution_count": 7,
     "metadata": {},
     "output_type": "execute_result"
    }
   ],
   "source": [
    "#* Total Number of Rides Per City\n",
    "rides_per_city = ride_df.groupby(\"city\").count()[\"ride_id\"]\n",
    "rides_per_city.head(2)"
   ]
  },
  {
   "cell_type": "code",
   "execution_count": 8,
   "metadata": {},
   "outputs": [
    {
     "data": {
      "text/html": [
       "<div>\n",
       "<style scoped>\n",
       "    .dataframe tbody tr th:only-of-type {\n",
       "        vertical-align: middle;\n",
       "    }\n",
       "\n",
       "    .dataframe tbody tr th {\n",
       "        vertical-align: top;\n",
       "    }\n",
       "\n",
       "    .dataframe thead th {\n",
       "        text-align: right;\n",
       "    }\n",
       "</style>\n",
       "<table border=\"1\" class=\"dataframe\">\n",
       "  <thead>\n",
       "    <tr style=\"text-align: right;\">\n",
       "      <th></th>\n",
       "      <th>city</th>\n",
       "      <th># of Rides</th>\n",
       "      <th>Ave_Fare</th>\n",
       "    </tr>\n",
       "  </thead>\n",
       "  <tbody>\n",
       "    <tr>\n",
       "      <th>0</th>\n",
       "      <td>Alvarezhaven</td>\n",
       "      <td>31</td>\n",
       "      <td>23.928710</td>\n",
       "    </tr>\n",
       "    <tr>\n",
       "      <th>1</th>\n",
       "      <td>Alyssaberg</td>\n",
       "      <td>26</td>\n",
       "      <td>20.609615</td>\n",
       "    </tr>\n",
       "  </tbody>\n",
       "</table>\n",
       "</div>"
      ],
      "text/plain": [
       "           city  # of Rides   Ave_Fare\n",
       "0  Alvarezhaven          31  23.928710\n",
       "1    Alyssaberg          26  20.609615"
      ]
     },
     "execution_count": 8,
     "metadata": {},
     "output_type": "execute_result"
    }
   ],
   "source": [
    "#* Total Number of Drivers Per City\n",
    "# Notes to self.... Plan -- create a pd.DataFrame for Ave fare per city and rides per city and then merge those into the city DF \n",
    "#because that is already grouped by City... may need to reset index -- this should leave us with a single dataframe to plot -- \n",
    "#(Luis indicated that it would be OK to merge the files initially and then just clean up the repetitive lists, but using .first \n",
    "# and .sum, and then reset the index just before the plot)  \n",
    "\n",
    "fare_and_rides = pd.DataFrame({\"Ave_Fare\":ave_fare_per_city, \"# of Rides\": rides_per_city})\n",
    "fare_and_rides = fare_and_rides.reset_index()\n",
    "fare_and_rides.head(2)\n"
   ]
  },
  {
   "cell_type": "code",
   "execution_count": 9,
   "metadata": {},
   "outputs": [
    {
     "data": {
      "text/html": [
       "<div>\n",
       "<style scoped>\n",
       "    .dataframe tbody tr th:only-of-type {\n",
       "        vertical-align: middle;\n",
       "    }\n",
       "\n",
       "    .dataframe tbody tr th {\n",
       "        vertical-align: top;\n",
       "    }\n",
       "\n",
       "    .dataframe thead th {\n",
       "        text-align: right;\n",
       "    }\n",
       "</style>\n",
       "<table border=\"1\" class=\"dataframe\">\n",
       "  <thead>\n",
       "    <tr style=\"text-align: right;\">\n",
       "      <th></th>\n",
       "      <th>city</th>\n",
       "      <th>driver_count</th>\n",
       "      <th>type</th>\n",
       "      <th># of Rides</th>\n",
       "      <th>Ave_Fare</th>\n",
       "    </tr>\n",
       "  </thead>\n",
       "  <tbody>\n",
       "    <tr>\n",
       "      <th>0</th>\n",
       "      <td>Alvarezhaven</td>\n",
       "      <td>21</td>\n",
       "      <td>Urban</td>\n",
       "      <td>31</td>\n",
       "      <td>23.928710</td>\n",
       "    </tr>\n",
       "    <tr>\n",
       "      <th>1</th>\n",
       "      <td>Alyssaberg</td>\n",
       "      <td>67</td>\n",
       "      <td>Urban</td>\n",
       "      <td>26</td>\n",
       "      <td>20.609615</td>\n",
       "    </tr>\n",
       "  </tbody>\n",
       "</table>\n",
       "</div>"
      ],
      "text/plain": [
       "           city  driver_count   type  # of Rides   Ave_Fare\n",
       "0  Alvarezhaven            21  Urban          31  23.928710\n",
       "1    Alyssaberg            67  Urban          26  20.609615"
      ]
     },
     "execution_count": 9,
     "metadata": {},
     "output_type": "execute_result"
    }
   ],
   "source": [
    "# Merge new data to city date\n",
    "merged_df = pd.merge(city_df_clean,fare_and_rides,on=\"city\")\n",
    "merged_df.head(2)"
   ]
  },
  {
   "cell_type": "code",
   "execution_count": 10,
   "metadata": {},
   "outputs": [
    {
     "data": {
      "text/html": [
       "<div>\n",
       "<style scoped>\n",
       "    .dataframe tbody tr th:only-of-type {\n",
       "        vertical-align: middle;\n",
       "    }\n",
       "\n",
       "    .dataframe tbody tr th {\n",
       "        vertical-align: top;\n",
       "    }\n",
       "\n",
       "    .dataframe thead th {\n",
       "        text-align: right;\n",
       "    }\n",
       "</style>\n",
       "<table border=\"1\" class=\"dataframe\">\n",
       "  <thead>\n",
       "    <tr style=\"text-align: right;\">\n",
       "      <th></th>\n",
       "      <th>city</th>\n",
       "      <th>driver_count</th>\n",
       "      <th>type</th>\n",
       "      <th># of Rides</th>\n",
       "      <th>Ave_Fare</th>\n",
       "    </tr>\n",
       "  </thead>\n",
       "  <tbody>\n",
       "    <tr>\n",
       "      <th>0</th>\n",
       "      <td>Alvarezhaven</td>\n",
       "      <td>21</td>\n",
       "      <td>Urban</td>\n",
       "      <td>31</td>\n",
       "      <td>23.928710</td>\n",
       "    </tr>\n",
       "    <tr>\n",
       "      <th>1</th>\n",
       "      <td>Alyssaberg</td>\n",
       "      <td>67</td>\n",
       "      <td>Urban</td>\n",
       "      <td>26</td>\n",
       "      <td>20.609615</td>\n",
       "    </tr>\n",
       "  </tbody>\n",
       "</table>\n",
       "</div>"
      ],
      "text/plain": [
       "           city  driver_count   type  # of Rides   Ave_Fare\n",
       "0  Alvarezhaven            21  Urban          31  23.928710\n",
       "1    Alyssaberg            67  Urban          26  20.609615"
      ]
     },
     "execution_count": 10,
     "metadata": {},
     "output_type": "execute_result"
    }
   ],
   "source": [
    "urban = merged_df.loc[(merged_df[\"type\"]== \"Urban\")]\n",
    "urban.head(2)"
   ]
  },
  {
   "cell_type": "code",
   "execution_count": 11,
   "metadata": {},
   "outputs": [
    {
     "data": {
      "text/html": [
       "<div>\n",
       "<style scoped>\n",
       "    .dataframe tbody tr th:only-of-type {\n",
       "        vertical-align: middle;\n",
       "    }\n",
       "\n",
       "    .dataframe tbody tr th {\n",
       "        vertical-align: top;\n",
       "    }\n",
       "\n",
       "    .dataframe thead th {\n",
       "        text-align: right;\n",
       "    }\n",
       "</style>\n",
       "<table border=\"1\" class=\"dataframe\">\n",
       "  <thead>\n",
       "    <tr style=\"text-align: right;\">\n",
       "      <th></th>\n",
       "      <th>city</th>\n",
       "      <th>driver_count</th>\n",
       "      <th>type</th>\n",
       "      <th># of Rides</th>\n",
       "      <th>Ave_Fare</th>\n",
       "    </tr>\n",
       "  </thead>\n",
       "  <tbody>\n",
       "    <tr>\n",
       "      <th>2</th>\n",
       "      <td>Anitamouth</td>\n",
       "      <td>16</td>\n",
       "      <td>Suburban</td>\n",
       "      <td>9</td>\n",
       "      <td>37.315556</td>\n",
       "    </tr>\n",
       "    <tr>\n",
       "      <th>6</th>\n",
       "      <td>Campbellport</td>\n",
       "      <td>26</td>\n",
       "      <td>Suburban</td>\n",
       "      <td>15</td>\n",
       "      <td>33.711333</td>\n",
       "    </tr>\n",
       "  </tbody>\n",
       "</table>\n",
       "</div>"
      ],
      "text/plain": [
       "           city  driver_count      type  # of Rides   Ave_Fare\n",
       "2    Anitamouth            16  Suburban           9  37.315556\n",
       "6  Campbellport            26  Suburban          15  33.711333"
      ]
     },
     "execution_count": 11,
     "metadata": {},
     "output_type": "execute_result"
    }
   ],
   "source": [
    "suburban = merged_df.loc[(merged_df[\"type\"]== \"Suburban\")]\n",
    "suburban.head(2)"
   ]
  },
  {
   "cell_type": "code",
   "execution_count": 12,
   "metadata": {},
   "outputs": [
    {
     "data": {
      "text/html": [
       "<div>\n",
       "<style scoped>\n",
       "    .dataframe tbody tr th:only-of-type {\n",
       "        vertical-align: middle;\n",
       "    }\n",
       "\n",
       "    .dataframe tbody tr th {\n",
       "        vertical-align: top;\n",
       "    }\n",
       "\n",
       "    .dataframe thead th {\n",
       "        text-align: right;\n",
       "    }\n",
       "</style>\n",
       "<table border=\"1\" class=\"dataframe\">\n",
       "  <thead>\n",
       "    <tr style=\"text-align: right;\">\n",
       "      <th></th>\n",
       "      <th>city</th>\n",
       "      <th>driver_count</th>\n",
       "      <th>type</th>\n",
       "      <th># of Rides</th>\n",
       "      <th>Ave_Fare</th>\n",
       "    </tr>\n",
       "  </thead>\n",
       "  <tbody>\n",
       "    <tr>\n",
       "      <th>17</th>\n",
       "      <td>East Leslie</td>\n",
       "      <td>9</td>\n",
       "      <td>Rural</td>\n",
       "      <td>11</td>\n",
       "      <td>33.660909</td>\n",
       "    </tr>\n",
       "    <tr>\n",
       "      <th>18</th>\n",
       "      <td>East Stephen</td>\n",
       "      <td>6</td>\n",
       "      <td>Rural</td>\n",
       "      <td>10</td>\n",
       "      <td>39.053000</td>\n",
       "    </tr>\n",
       "  </tbody>\n",
       "</table>\n",
       "</div>"
      ],
      "text/plain": [
       "            city  driver_count   type  # of Rides   Ave_Fare\n",
       "17   East Leslie             9  Rural          11  33.660909\n",
       "18  East Stephen             6  Rural          10  39.053000"
      ]
     },
     "execution_count": 12,
     "metadata": {},
     "output_type": "execute_result"
    }
   ],
   "source": [
    "rural = merged_df.loc[(merged_df[\"type\"]== \"Rural\")]\n",
    "# Did the following line to check to make sure the sizing works\n",
    "#rural.loc[(rural[\"# of Rides\"]==4)]\n",
    "rural.head(2)"
   ]
  },
  {
   "cell_type": "code",
   "execution_count": 13,
   "metadata": {},
   "outputs": [
    {
     "data": {
      "image/png": "[encoded data removed]",
      "text/plain": [
       "<matplotlib.figure.Figure at 0x2b27c1d14e0>"
      ]
     },
     "metadata": {},
     "output_type": "display_data"
    }
   ],
   "source": [
    "# Note to self -- Using the matplotlib way did not allow me to overlay the graphs in single location\n",
    "#urban.plot(kind=\"scatter\", x=\"# of Rides\", y=\"driver_count\", color=\"r\")\n",
    "#suburban.plot(kind=\"scatter\", x=\"# of Rides\", y=\"driver_count\", color=\"b\")\n",
    "#rural.plot(kind=\"scatter\", x=\"# of Rides\", y=\"driver_count\", color=\"g\")\n",
    "#plt.show()\n",
    "\n",
    "# create indiv scatter plots for each city type\n",
    "plt.scatter(urban[\"# of Rides\"],urban[\"driver_count\"], color=\"r\", s = urban[\"Ave_Fare\"])\n",
    "plt.scatter(suburban[\"# of Rides\"],suburban[\"driver_count\"], color=\"b\", s = suburban[\"Ave_Fare\"])\n",
    "plt.scatter(rural[\"# of Rides\"],rural[\"driver_count\"], color=\"g\", s = rural[\"Ave_Fare\"])\n",
    "\n",
    "# Note to self -- Problem with creation of  / implementation of handle for each plot... for line graph only?\n",
    "#urban, = plt.plot(urban[\"# of Rides\"],urban[\"driver_count\"], color=\"r\")\n",
    "#suburban, = plt.plot(suburban[\"# of Rides\"],suburban[\"driver_count\"], color=\"b\")\n",
    "#rural, = plt.plot(rural[\"# of Rides\"],rural[\"driver_count\"], color=\"g\")\n",
    "\n",
    "\n",
    "# create chart labels and legend\n",
    "plt.title(\"# of Rides vs Drivers AND Over City Type and Average Rate\")\n",
    "plt.xlabel(\"# of Rides\")\n",
    "plt.ylabel(\"# of Drivers\")\n",
    "#plt.legend(urban.color = \"red\", suburban.color = blue, rural.color = green, loc=\"best\")\n",
    "plt.savefig(\"Dow-Rides-vs-Drivers-Fare-City-Type.png\")\n",
    "plt.show()"
   ]
  },
  {
   "cell_type": "code",
   "execution_count": 14,
   "metadata": {},
   "outputs": [
    {
     "data": {
      "image/png": "[encoded data removed]",
      "text/plain": [
       "<matplotlib.figure.Figure at 0x2b27bbf9358>"
      ]
     },
     "metadata": {},
     "output_type": "display_data"
    }
   ],
   "source": [
    "# Version two of the graph - now with average rate on y-axis:\n",
    "\n",
    "# create indiv scatter plots for each city type\n",
    "plt.scatter(urban[\"# of Rides\"],urban[\"Ave_Fare\"], color=\"r\", s = urban[\"driver_count\"])\n",
    "plt.scatter(suburban[\"# of Rides\"],suburban[\"Ave_Fare\"], color=\"b\", s = suburban[\"driver_count\"])\n",
    "plt.scatter(rural[\"# of Rides\"],rural[\"Ave_Fare\"], color=\"g\", s = rural[\"driver_count\"])\n",
    "\n",
    "\n",
    "# create chart labels and legend\n",
    "plt.title(\"# of Rides vs Average Fare AND Considering City Type and # of Drivers\")\n",
    "plt.xlabel(\"# of Rides\")\n",
    "plt.ylabel(\"Average Fare in $\")\n",
    "plt.savefig(\"Dow-Rides-vs-Fare-Drivers-City-Type.png\")\n",
    "plt.show()"
   ]
  },
  {
   "cell_type": "code",
   "execution_count": 15,
   "metadata": {},
   "outputs": [
    {
     "data": {
      "text/plain": [
       "40077.0"
      ]
     },
     "execution_count": 15,
     "metadata": {},
     "output_type": "execute_result"
    }
   ],
   "source": [
    "#* % of Total Fares by City Type\n",
    "sum_fare_urban = round(urban[\"Ave_Fare\"] * urban[\"# of Rides\"]).sum()\n",
    "sum_fare_urban\n"
   ]
  },
  {
   "cell_type": "code",
   "execution_count": 16,
   "metadata": {},
   "outputs": [
    {
     "data": {
      "text/plain": [
       "19321.0"
      ]
     },
     "execution_count": 16,
     "metadata": {},
     "output_type": "execute_result"
    }
   ],
   "source": [
    "sum_fare_suburban = round(suburban[\"Ave_Fare\"] * suburban[\"# of Rides\"]).sum()\n",
    "sum_fare_suburban"
   ]
  },
  {
   "cell_type": "code",
   "execution_count": 17,
   "metadata": {},
   "outputs": [
    {
     "data": {
      "text/plain": [
       "4255.0"
      ]
     },
     "execution_count": 17,
     "metadata": {},
     "output_type": "execute_result"
    }
   ],
   "source": [
    "sum_fare_rural = round(rural[\"Ave_Fare\"] * rural[\"# of Rides\"]).sum()\n",
    "sum_fare_rural"
   ]
  },
  {
   "cell_type": "code",
   "execution_count": 18,
   "metadata": {},
   "outputs": [
    {
     "data": {
      "text/plain": [
       "63651.30999999986"
      ]
     },
     "execution_count": 18,
     "metadata": {},
     "output_type": "execute_result"
    }
   ],
   "source": [
    "total_fare = ride_df.sum()[\"fare\"]\n",
    "total_fare"
   ]
  },
  {
   "cell_type": "code",
   "execution_count": 19,
   "metadata": {},
   "outputs": [],
   "source": [
    "# Not needed\n",
    "#percent_fare_urban = int((sum_fare_urban / total_fare)*100)\n",
    "#percent_fare_urban\n",
    "#percent_fare_suburban = int((sum_fare_suburban / total_fare)*100)\n",
    "#percent_fare_suburban\n",
    "#percent_fare_rural = int((sum_fare_rural / total_fare)*100)\n",
    "#percent_fare_rural"
   ]
  },
  {
   "cell_type": "code",
   "execution_count": 20,
   "metadata": {},
   "outputs": [
    {
     "data": {
      "image/png": "[encoded data removed]",
      "text/plain": [
       "<matplotlib.figure.Figure at 0x2b27bc4e518>"
      ]
     },
     "metadata": {},
     "output_type": "display_data"
    }
   ],
   "source": [
    "#fares_pie_data = [percent_fare_urban,percent_fare_suburban,percent_fare_rural]\n",
    "\n",
    "fares_pie_data = [sum_fare_urban,sum_fare_suburban,sum_fare_rural]\n",
    "fares_pie_labels = [\"Urban\", \"Suburban\", \"Rural\"]\n",
    "colors = [\"lightcoral\", \"lightskyblue\", \"yellowgreen\"]\n",
    "\n",
    "plt.title(\"% of Total Fares by City Type\")\n",
    "plt.pie(fares_pie_data,labels=fares_pie_labels,colors=colors,autopct=\"%1.1f%%\",shadow=True,startangle=140)\n",
    "plt.axis(\"equal\")\n",
    "plt.savefig(\"Dow-Percent-Total-Fares-by-City-Type.png\")"
   ]
  },
  {
   "cell_type": "code",
   "execution_count": 21,
   "metadata": {},
   "outputs": [],
   "source": [
    "#* % of Total Rides by City Type\n",
    "sum_rides_urban=urban[\"# of Rides\"].sum()\n",
    "sum_rides_suburban=suburban[\"# of Rides\"].sum()                        \n",
    "sum_rides_rural=rural[\"# of Rides\"].sum()  "
   ]
  },
  {
   "cell_type": "code",
   "execution_count": 22,
   "metadata": {},
   "outputs": [
    {
     "data": {
      "image/png": "[encoded data removed]",
      "text/plain": [
       "<matplotlib.figure.Figure at 0x2b27bbf1390>"
      ]
     },
     "metadata": {},
     "output_type": "display_data"
    }
   ],
   "source": [
    "rides_pie_data = [sum_rides_urban,sum_rides_suburban,sum_rides_rural]\n",
    "rides_pie_labels = [\"Urban\", \"Suburban\", \"Rural\"]\n",
    "colors = [\"lightcoral\", \"lightskyblue\", \"yellowgreen\"]\n",
    "\n",
    "plt.title(\"# of Rides by City Type\")\n",
    "plt.pie(rides_pie_data,labels=rides_pie_labels,colors=colors,autopct=\"%1.1f%%\",shadow=True,startangle=140)\n",
    "plt.axis(\"equal\")\n",
    "plt.savefig(\"Dow-Percent-Total-Rides-by-City-Type.png\")"
   ]
  },
  {
   "cell_type": "code",
   "execution_count": 23,
   "metadata": {},
   "outputs": [],
   "source": [
    "#* % of Total Drivers by City Type\n",
    "sum_drivers_urban=urban[\"driver_count\"].sum()\n",
    "sum_drivers_suburban=suburban[\"driver_count\"].sum()                        \n",
    "sum_drivers_rural=rural[\"driver_count\"].sum()  "
   ]
  },
  {
   "cell_type": "code",
   "execution_count": 24,
   "metadata": {},
   "outputs": [
    {
     "data": {
      "image/png": "[encoded data removed]",
      "text/plain": [
       "<matplotlib.figure.Figure at 0x2b27bca5cf8>"
      ]
     },
     "metadata": {},
     "output_type": "display_data"
    }
   ],
   "source": [
    "drivers_pie_data = [sum_drivers_urban,sum_drivers_suburban,sum_drivers_rural]\n",
    "drivers_pie_labels = [\"Urban\", \"Suburban\", \"Rural\"]\n",
    "colors = [\"lightcoral\", \"lightskyblue\", \"yellowgreen\"]\n",
    "\n",
    "plt.title(\"# of Drivers by City Type\")\n",
    "plt.pie(drivers_pie_data,labels=drivers_pie_labels,colors=colors,autopct=\"%1.1f%%\",shadow=True,startangle=140)\n",
    "plt.axis(\"equal\")\n",
    "plt.savefig(\"Dow-Percent-Total-Drivers-by-City-Type.png\")"
   ]
  },
  {
   "cell_type": "code",
   "execution_count": null,
   "metadata": {},
   "outputs": [],
   "source": []
  }
 ],
 "metadata": {
  "kernelspec": {
   "display_name": "Python 3",
   "language": "python",
   "name": "python3"
  },
  "language_info": {
   "codemirror_mode": {
    "name": "ipython",
    "version": 3
   },
   "file_extension": ".py",
   "mimetype": "text/x-python",
   "name": "python",
   "nbconvert_exporter": "python",
   "pygments_lexer": "ipython3",
   "version": "3.6.4"
  }
 },
 "nbformat": 4,
 "nbformat_minor": 2
}
